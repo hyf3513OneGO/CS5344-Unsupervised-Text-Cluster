from sklearn.feature_extraction.text import TfidfVectorizer
from bertopic import BERTopic
from sklearn.datasets import fetch_20newsgroups
import torch
from torch.utils.data import Dataset,DataLoader
import pandas as pd
import numpy as np
import torch.nn.functional as F
dataset = fetch_20newsgroups(subset='all',  remove=('headers', 'footers', 'quotes'))
data = dataset["data"]
label = dataset["target"]
label_names = dataset["target_names"]
corpus = data


vectorizer = TfidfVectorizer(max_df=0.8, min_df=5, max_features=100)
X = vectorizer.fit_transform(corpus)
embeddings = X.toarray()
np.save('embeddings/tf-IDF.npy',embeddings)


import numpy as np
from sklearn.cluster import DBSCAN
from sklearn.metrics import silhouette_score
from sklearn.manifold import TSNE
from sklearn.decomposition import PCA
tsne = TSNE(n_components=2, perplexity=5, learning_rate=500, n_iter=3000, early_exaggeration=15, random_state=42)
embeddings_2d = tsne.fit_transform(embeddings)


import matplotlib.pyplot as plt
plt.figure(figsize=(8, 6))
plt.scatter(embeddings_2d[:, 0], embeddings_2d[:, 1],c=label,cmap='coolwarm')
plt.title("t-SNE of Model Embeddings")
plt.savefig("figures/tf-IDF_emb.png", dpi=300, bbox_inches='tight')
plt.show()



import umap
from sklearn.cluster import KMeans
from utils.evalUtils import *
# reducer = umap.UMAP(n_components=512, random_state=42)
embeddings_reduced = embeddings
# cluster
kmeans = KMeans(n_clusters=20, random_state=30)
kmeans.fit(embeddings_reduced)
pred_labels = kmeans.predict(embeddings_reduced)
# visualization
plt.figure(figsize=(8, 6))
unique_labels = np.unique(pred_labels)
plt.scatter(embeddings_2d[:, 0], embeddings_2d[:, 1],c=pred_labels,cmap='coolwarm')
plt.title('Clustering of Embeddings')
plt.legend()
plt.savefig("figures/tf-IDF_predict.png", dpi=300, bbox_inches='tight')
plt.show()



evaluate_ari(label,pred_labels)
evaluate_nmi(label,pred_labels)
evaluate_silhouette(embeddings,pred_labels)
